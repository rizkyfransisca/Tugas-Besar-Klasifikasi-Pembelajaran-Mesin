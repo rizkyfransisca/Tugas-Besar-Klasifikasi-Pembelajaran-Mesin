{
  "nbformat": 4,
  "nbformat_minor": 0,
  "metadata": {
    "colab": {
      "name": " Classification.ipynb",
      "provenance": [],
      "collapsed_sections": []
    },
    "kernelspec": {
      "name": "python3",
      "display_name": "Python 3"
    },
    "language_info": {
      "name": "python"
    }
  },
  "cells": [
    {
      "cell_type": "code",
      "metadata": {
        "id": "zUmuwNEmKGbi"
      },
      "source": [
        "import pandas as pd\n",
        "import numpy as np\n",
        "import matplotlib.pyplot as plt\n",
        "import seaborn as sns\n",
        "import missingno as mno"
      ],
      "execution_count": 1,
      "outputs": []
    },
    {
      "cell_type": "markdown",
      "metadata": {
        "id": "02Avn9Io2SRp"
      },
      "source": [
        "## **LOAD DATA TRAIN**"
      ]
    },
    {
      "cell_type": "code",
      "metadata": {
        "id": "-pMrBxSTKdJi",
        "colab": {
          "base_uri": "https://localhost:8080/",
          "height": 423
        },
        "outputId": "57a41a94-8ea0-4bf5-b686-f13254500ff1"
      },
      "source": [
        "# import data train\n",
        "data_train = pd.read_csv(\"https://github.com/rizkyfransisca/Tugas-Besar-Klasifikasi-Pembelajaran-Mesin/blob/main/kendaraan_train.csv?raw=true\")\n",
        "data_train"
      ],
      "execution_count": 2,
      "outputs": [
        {
          "output_type": "execute_result",
          "data": {
            "text/html": [
              "<div>\n",
              "<style scoped>\n",
              "    .dataframe tbody tr th:only-of-type {\n",
              "        vertical-align: middle;\n",
              "    }\n",
              "\n",
              "    .dataframe tbody tr th {\n",
              "        vertical-align: top;\n",
              "    }\n",
              "\n",
              "    .dataframe thead th {\n",
              "        text-align: right;\n",
              "    }\n",
              "</style>\n",
              "<table border=\"1\" class=\"dataframe\">\n",
              "  <thead>\n",
              "    <tr style=\"text-align: right;\">\n",
              "      <th></th>\n",
              "      <th>id</th>\n",
              "      <th>Jenis_Kelamin</th>\n",
              "      <th>Umur</th>\n",
              "      <th>SIM</th>\n",
              "      <th>Kode_Daerah</th>\n",
              "      <th>Sudah_Asuransi</th>\n",
              "      <th>Umur_Kendaraan</th>\n",
              "      <th>Kendaraan_Rusak</th>\n",
              "      <th>Premi</th>\n",
              "      <th>Kanal_Penjualan</th>\n",
              "      <th>Lama_Berlangganan</th>\n",
              "      <th>Tertarik</th>\n",
              "    </tr>\n",
              "  </thead>\n",
              "  <tbody>\n",
              "    <tr>\n",
              "      <th>0</th>\n",
              "      <td>1</td>\n",
              "      <td>Wanita</td>\n",
              "      <td>30.0</td>\n",
              "      <td>1.0</td>\n",
              "      <td>33.0</td>\n",
              "      <td>1.0</td>\n",
              "      <td>&lt; 1 Tahun</td>\n",
              "      <td>Tidak</td>\n",
              "      <td>28029.0</td>\n",
              "      <td>152.0</td>\n",
              "      <td>97.0</td>\n",
              "      <td>0</td>\n",
              "    </tr>\n",
              "    <tr>\n",
              "      <th>1</th>\n",
              "      <td>2</td>\n",
              "      <td>Pria</td>\n",
              "      <td>48.0</td>\n",
              "      <td>1.0</td>\n",
              "      <td>39.0</td>\n",
              "      <td>0.0</td>\n",
              "      <td>&gt; 2 Tahun</td>\n",
              "      <td>Pernah</td>\n",
              "      <td>25800.0</td>\n",
              "      <td>29.0</td>\n",
              "      <td>158.0</td>\n",
              "      <td>0</td>\n",
              "    </tr>\n",
              "    <tr>\n",
              "      <th>2</th>\n",
              "      <td>3</td>\n",
              "      <td>NaN</td>\n",
              "      <td>21.0</td>\n",
              "      <td>1.0</td>\n",
              "      <td>46.0</td>\n",
              "      <td>1.0</td>\n",
              "      <td>&lt; 1 Tahun</td>\n",
              "      <td>Tidak</td>\n",
              "      <td>32733.0</td>\n",
              "      <td>160.0</td>\n",
              "      <td>119.0</td>\n",
              "      <td>0</td>\n",
              "    </tr>\n",
              "    <tr>\n",
              "      <th>3</th>\n",
              "      <td>4</td>\n",
              "      <td>Wanita</td>\n",
              "      <td>58.0</td>\n",
              "      <td>1.0</td>\n",
              "      <td>48.0</td>\n",
              "      <td>0.0</td>\n",
              "      <td>1-2 Tahun</td>\n",
              "      <td>Tidak</td>\n",
              "      <td>2630.0</td>\n",
              "      <td>124.0</td>\n",
              "      <td>63.0</td>\n",
              "      <td>0</td>\n",
              "    </tr>\n",
              "    <tr>\n",
              "      <th>4</th>\n",
              "      <td>5</td>\n",
              "      <td>Pria</td>\n",
              "      <td>50.0</td>\n",
              "      <td>1.0</td>\n",
              "      <td>35.0</td>\n",
              "      <td>0.0</td>\n",
              "      <td>&gt; 2 Tahun</td>\n",
              "      <td>NaN</td>\n",
              "      <td>34857.0</td>\n",
              "      <td>88.0</td>\n",
              "      <td>194.0</td>\n",
              "      <td>0</td>\n",
              "    </tr>\n",
              "    <tr>\n",
              "      <th>...</th>\n",
              "      <td>...</td>\n",
              "      <td>...</td>\n",
              "      <td>...</td>\n",
              "      <td>...</td>\n",
              "      <td>...</td>\n",
              "      <td>...</td>\n",
              "      <td>...</td>\n",
              "      <td>...</td>\n",
              "      <td>...</td>\n",
              "      <td>...</td>\n",
              "      <td>...</td>\n",
              "      <td>...</td>\n",
              "    </tr>\n",
              "    <tr>\n",
              "      <th>285826</th>\n",
              "      <td>285827</td>\n",
              "      <td>Wanita</td>\n",
              "      <td>23.0</td>\n",
              "      <td>1.0</td>\n",
              "      <td>4.0</td>\n",
              "      <td>1.0</td>\n",
              "      <td>&lt; 1 Tahun</td>\n",
              "      <td>Tidak</td>\n",
              "      <td>25988.0</td>\n",
              "      <td>152.0</td>\n",
              "      <td>217.0</td>\n",
              "      <td>0</td>\n",
              "    </tr>\n",
              "    <tr>\n",
              "      <th>285827</th>\n",
              "      <td>285828</td>\n",
              "      <td>Wanita</td>\n",
              "      <td>21.0</td>\n",
              "      <td>1.0</td>\n",
              "      <td>46.0</td>\n",
              "      <td>1.0</td>\n",
              "      <td>&lt; 1 Tahun</td>\n",
              "      <td>Tidak</td>\n",
              "      <td>44686.0</td>\n",
              "      <td>152.0</td>\n",
              "      <td>50.0</td>\n",
              "      <td>0</td>\n",
              "    </tr>\n",
              "    <tr>\n",
              "      <th>285828</th>\n",
              "      <td>285829</td>\n",
              "      <td>Wanita</td>\n",
              "      <td>23.0</td>\n",
              "      <td>1.0</td>\n",
              "      <td>50.0</td>\n",
              "      <td>1.0</td>\n",
              "      <td>&lt; 1 Tahun</td>\n",
              "      <td>Tidak</td>\n",
              "      <td>49751.0</td>\n",
              "      <td>152.0</td>\n",
              "      <td>226.0</td>\n",
              "      <td>0</td>\n",
              "    </tr>\n",
              "    <tr>\n",
              "      <th>285829</th>\n",
              "      <td>285830</td>\n",
              "      <td>Pria</td>\n",
              "      <td>68.0</td>\n",
              "      <td>1.0</td>\n",
              "      <td>7.0</td>\n",
              "      <td>1.0</td>\n",
              "      <td>1-2 Tahun</td>\n",
              "      <td>Tidak</td>\n",
              "      <td>30503.0</td>\n",
              "      <td>124.0</td>\n",
              "      <td>270.0</td>\n",
              "      <td>0</td>\n",
              "    </tr>\n",
              "    <tr>\n",
              "      <th>285830</th>\n",
              "      <td>285831</td>\n",
              "      <td>Pria</td>\n",
              "      <td>45.0</td>\n",
              "      <td>1.0</td>\n",
              "      <td>28.0</td>\n",
              "      <td>0.0</td>\n",
              "      <td>1-2 Tahun</td>\n",
              "      <td>Pernah</td>\n",
              "      <td>36480.0</td>\n",
              "      <td>26.0</td>\n",
              "      <td>44.0</td>\n",
              "      <td>0</td>\n",
              "    </tr>\n",
              "  </tbody>\n",
              "</table>\n",
              "<p>285831 rows × 12 columns</p>\n",
              "</div>"
            ],
            "text/plain": [
              "            id Jenis_Kelamin  ...  Lama_Berlangganan  Tertarik\n",
              "0            1        Wanita  ...               97.0         0\n",
              "1            2          Pria  ...              158.0         0\n",
              "2            3           NaN  ...              119.0         0\n",
              "3            4        Wanita  ...               63.0         0\n",
              "4            5          Pria  ...              194.0         0\n",
              "...        ...           ...  ...                ...       ...\n",
              "285826  285827        Wanita  ...              217.0         0\n",
              "285827  285828        Wanita  ...               50.0         0\n",
              "285828  285829        Wanita  ...              226.0         0\n",
              "285829  285830          Pria  ...              270.0         0\n",
              "285830  285831          Pria  ...               44.0         0\n",
              "\n",
              "[285831 rows x 12 columns]"
            ]
          },
          "metadata": {},
          "execution_count": 2
        }
      ]
    },
    {
      "cell_type": "markdown",
      "metadata": {
        "id": "KSFCwwiO2bfI"
      },
      "source": [
        "## **DATA TRAIN EXPLORATION**"
      ]
    },
    {
      "cell_type": "code",
      "metadata": {
        "colab": {
          "base_uri": "https://localhost:8080/",
          "height": 206
        },
        "id": "fyAC-E7Y2pYm",
        "outputId": "d73e8a1f-c23c-4560-a11b-cf8e39ab3c6f"
      },
      "source": [
        "# show the first 5 data\n",
        "data_train.head()"
      ],
      "execution_count": 3,
      "outputs": [
        {
          "output_type": "execute_result",
          "data": {
            "text/html": [
              "<div>\n",
              "<style scoped>\n",
              "    .dataframe tbody tr th:only-of-type {\n",
              "        vertical-align: middle;\n",
              "    }\n",
              "\n",
              "    .dataframe tbody tr th {\n",
              "        vertical-align: top;\n",
              "    }\n",
              "\n",
              "    .dataframe thead th {\n",
              "        text-align: right;\n",
              "    }\n",
              "</style>\n",
              "<table border=\"1\" class=\"dataframe\">\n",
              "  <thead>\n",
              "    <tr style=\"text-align: right;\">\n",
              "      <th></th>\n",
              "      <th>id</th>\n",
              "      <th>Jenis_Kelamin</th>\n",
              "      <th>Umur</th>\n",
              "      <th>SIM</th>\n",
              "      <th>Kode_Daerah</th>\n",
              "      <th>Sudah_Asuransi</th>\n",
              "      <th>Umur_Kendaraan</th>\n",
              "      <th>Kendaraan_Rusak</th>\n",
              "      <th>Premi</th>\n",
              "      <th>Kanal_Penjualan</th>\n",
              "      <th>Lama_Berlangganan</th>\n",
              "      <th>Tertarik</th>\n",
              "    </tr>\n",
              "  </thead>\n",
              "  <tbody>\n",
              "    <tr>\n",
              "      <th>0</th>\n",
              "      <td>1</td>\n",
              "      <td>Wanita</td>\n",
              "      <td>30.0</td>\n",
              "      <td>1.0</td>\n",
              "      <td>33.0</td>\n",
              "      <td>1.0</td>\n",
              "      <td>&lt; 1 Tahun</td>\n",
              "      <td>Tidak</td>\n",
              "      <td>28029.0</td>\n",
              "      <td>152.0</td>\n",
              "      <td>97.0</td>\n",
              "      <td>0</td>\n",
              "    </tr>\n",
              "    <tr>\n",
              "      <th>1</th>\n",
              "      <td>2</td>\n",
              "      <td>Pria</td>\n",
              "      <td>48.0</td>\n",
              "      <td>1.0</td>\n",
              "      <td>39.0</td>\n",
              "      <td>0.0</td>\n",
              "      <td>&gt; 2 Tahun</td>\n",
              "      <td>Pernah</td>\n",
              "      <td>25800.0</td>\n",
              "      <td>29.0</td>\n",
              "      <td>158.0</td>\n",
              "      <td>0</td>\n",
              "    </tr>\n",
              "    <tr>\n",
              "      <th>2</th>\n",
              "      <td>3</td>\n",
              "      <td>NaN</td>\n",
              "      <td>21.0</td>\n",
              "      <td>1.0</td>\n",
              "      <td>46.0</td>\n",
              "      <td>1.0</td>\n",
              "      <td>&lt; 1 Tahun</td>\n",
              "      <td>Tidak</td>\n",
              "      <td>32733.0</td>\n",
              "      <td>160.0</td>\n",
              "      <td>119.0</td>\n",
              "      <td>0</td>\n",
              "    </tr>\n",
              "    <tr>\n",
              "      <th>3</th>\n",
              "      <td>4</td>\n",
              "      <td>Wanita</td>\n",
              "      <td>58.0</td>\n",
              "      <td>1.0</td>\n",
              "      <td>48.0</td>\n",
              "      <td>0.0</td>\n",
              "      <td>1-2 Tahun</td>\n",
              "      <td>Tidak</td>\n",
              "      <td>2630.0</td>\n",
              "      <td>124.0</td>\n",
              "      <td>63.0</td>\n",
              "      <td>0</td>\n",
              "    </tr>\n",
              "    <tr>\n",
              "      <th>4</th>\n",
              "      <td>5</td>\n",
              "      <td>Pria</td>\n",
              "      <td>50.0</td>\n",
              "      <td>1.0</td>\n",
              "      <td>35.0</td>\n",
              "      <td>0.0</td>\n",
              "      <td>&gt; 2 Tahun</td>\n",
              "      <td>NaN</td>\n",
              "      <td>34857.0</td>\n",
              "      <td>88.0</td>\n",
              "      <td>194.0</td>\n",
              "      <td>0</td>\n",
              "    </tr>\n",
              "  </tbody>\n",
              "</table>\n",
              "</div>"
            ],
            "text/plain": [
              "   id Jenis_Kelamin  Umur  ...  Kanal_Penjualan  Lama_Berlangganan  Tertarik\n",
              "0   1        Wanita  30.0  ...            152.0               97.0         0\n",
              "1   2          Pria  48.0  ...             29.0              158.0         0\n",
              "2   3           NaN  21.0  ...            160.0              119.0         0\n",
              "3   4        Wanita  58.0  ...            124.0               63.0         0\n",
              "4   5          Pria  50.0  ...             88.0              194.0         0\n",
              "\n",
              "[5 rows x 12 columns]"
            ]
          },
          "metadata": {},
          "execution_count": 3
        }
      ]
    },
    {
      "cell_type": "code",
      "metadata": {
        "colab": {
          "base_uri": "https://localhost:8080/"
        },
        "id": "MkEOc3x22v61",
        "outputId": "469b33e9-3161-4302-9692-2fc85790d174"
      },
      "source": [
        "# show rows and columns of the data train\n",
        "baris, kolom = data_train.shape\n",
        "print('Baris =', baris, ', Kolom =',kolom)"
      ],
      "execution_count": 4,
      "outputs": [
        {
          "output_type": "stream",
          "name": "stdout",
          "text": [
            "Baris = 285831 , Kolom = 12\n"
          ]
        }
      ]
    },
    {
      "cell_type": "markdown",
      "metadata": {
        "id": "2HYSBMaJ3XN7"
      },
      "source": [
        "### **Statistical Representation**"
      ]
    },
    {
      "cell_type": "code",
      "metadata": {
        "colab": {
          "base_uri": "https://localhost:8080/",
          "height": 331
        },
        "id": "z7KsmAr33Lxc",
        "outputId": "71f2c8aa-ecdb-4657-9aba-24e8d641e819"
      },
      "source": [
        "# Statistical Representation (numerical columns)\n",
        "data_train.describe().transpose()"
      ],
      "execution_count": 5,
      "outputs": [
        {
          "output_type": "execute_result",
          "data": {
            "text/html": [
              "<div>\n",
              "<style scoped>\n",
              "    .dataframe tbody tr th:only-of-type {\n",
              "        vertical-align: middle;\n",
              "    }\n",
              "\n",
              "    .dataframe tbody tr th {\n",
              "        vertical-align: top;\n",
              "    }\n",
              "\n",
              "    .dataframe thead th {\n",
              "        text-align: right;\n",
              "    }\n",
              "</style>\n",
              "<table border=\"1\" class=\"dataframe\">\n",
              "  <thead>\n",
              "    <tr style=\"text-align: right;\">\n",
              "      <th></th>\n",
              "      <th>count</th>\n",
              "      <th>mean</th>\n",
              "      <th>std</th>\n",
              "      <th>min</th>\n",
              "      <th>25%</th>\n",
              "      <th>50%</th>\n",
              "      <th>75%</th>\n",
              "      <th>max</th>\n",
              "    </tr>\n",
              "  </thead>\n",
              "  <tbody>\n",
              "    <tr>\n",
              "      <th>id</th>\n",
              "      <td>285831.0</td>\n",
              "      <td>142916.000000</td>\n",
              "      <td>82512.446734</td>\n",
              "      <td>1.0</td>\n",
              "      <td>71458.5</td>\n",
              "      <td>142916.0</td>\n",
              "      <td>214373.50</td>\n",
              "      <td>285831.0</td>\n",
              "    </tr>\n",
              "    <tr>\n",
              "      <th>Umur</th>\n",
              "      <td>271617.0</td>\n",
              "      <td>38.844336</td>\n",
              "      <td>15.522487</td>\n",
              "      <td>20.0</td>\n",
              "      <td>25.0</td>\n",
              "      <td>36.0</td>\n",
              "      <td>49.00</td>\n",
              "      <td>85.0</td>\n",
              "    </tr>\n",
              "    <tr>\n",
              "      <th>SIM</th>\n",
              "      <td>271427.0</td>\n",
              "      <td>0.997848</td>\n",
              "      <td>0.046335</td>\n",
              "      <td>0.0</td>\n",
              "      <td>1.0</td>\n",
              "      <td>1.0</td>\n",
              "      <td>1.00</td>\n",
              "      <td>1.0</td>\n",
              "    </tr>\n",
              "    <tr>\n",
              "      <th>Kode_Daerah</th>\n",
              "      <td>271525.0</td>\n",
              "      <td>26.405410</td>\n",
              "      <td>13.252714</td>\n",
              "      <td>0.0</td>\n",
              "      <td>15.0</td>\n",
              "      <td>28.0</td>\n",
              "      <td>35.00</td>\n",
              "      <td>52.0</td>\n",
              "    </tr>\n",
              "    <tr>\n",
              "      <th>Sudah_Asuransi</th>\n",
              "      <td>271602.0</td>\n",
              "      <td>0.458778</td>\n",
              "      <td>0.498299</td>\n",
              "      <td>0.0</td>\n",
              "      <td>0.0</td>\n",
              "      <td>0.0</td>\n",
              "      <td>1.00</td>\n",
              "      <td>1.0</td>\n",
              "    </tr>\n",
              "    <tr>\n",
              "      <th>Premi</th>\n",
              "      <td>271262.0</td>\n",
              "      <td>30536.683472</td>\n",
              "      <td>17155.000770</td>\n",
              "      <td>2630.0</td>\n",
              "      <td>24398.0</td>\n",
              "      <td>31646.0</td>\n",
              "      <td>39377.75</td>\n",
              "      <td>540165.0</td>\n",
              "    </tr>\n",
              "    <tr>\n",
              "      <th>Kanal_Penjualan</th>\n",
              "      <td>271532.0</td>\n",
              "      <td>112.021567</td>\n",
              "      <td>54.202457</td>\n",
              "      <td>1.0</td>\n",
              "      <td>29.0</td>\n",
              "      <td>132.0</td>\n",
              "      <td>152.00</td>\n",
              "      <td>163.0</td>\n",
              "    </tr>\n",
              "    <tr>\n",
              "      <th>Lama_Berlangganan</th>\n",
              "      <td>271839.0</td>\n",
              "      <td>154.286302</td>\n",
              "      <td>83.694910</td>\n",
              "      <td>10.0</td>\n",
              "      <td>82.0</td>\n",
              "      <td>154.0</td>\n",
              "      <td>227.00</td>\n",
              "      <td>299.0</td>\n",
              "    </tr>\n",
              "    <tr>\n",
              "      <th>Tertarik</th>\n",
              "      <td>285831.0</td>\n",
              "      <td>0.122471</td>\n",
              "      <td>0.327830</td>\n",
              "      <td>0.0</td>\n",
              "      <td>0.0</td>\n",
              "      <td>0.0</td>\n",
              "      <td>0.00</td>\n",
              "      <td>1.0</td>\n",
              "    </tr>\n",
              "  </tbody>\n",
              "</table>\n",
              "</div>"
            ],
            "text/plain": [
              "                      count           mean  ...        75%       max\n",
              "id                 285831.0  142916.000000  ...  214373.50  285831.0\n",
              "Umur               271617.0      38.844336  ...      49.00      85.0\n",
              "SIM                271427.0       0.997848  ...       1.00       1.0\n",
              "Kode_Daerah        271525.0      26.405410  ...      35.00      52.0\n",
              "Sudah_Asuransi     271602.0       0.458778  ...       1.00       1.0\n",
              "Premi              271262.0   30536.683472  ...   39377.75  540165.0\n",
              "Kanal_Penjualan    271532.0     112.021567  ...     152.00     163.0\n",
              "Lama_Berlangganan  271839.0     154.286302  ...     227.00     299.0\n",
              "Tertarik           285831.0       0.122471  ...       0.00       1.0\n",
              "\n",
              "[9 rows x 8 columns]"
            ]
          },
          "metadata": {},
          "execution_count": 5
        }
      ]
    },
    {
      "cell_type": "code",
      "metadata": {
        "colab": {
          "base_uri": "https://localhost:8080/",
          "height": 143
        },
        "id": "s8E_9QYI3RyG",
        "outputId": "fb0ad1a8-0598-4bfe-b902-0f079c910547"
      },
      "source": [
        "# Statistical Representation (categorical columns)\n",
        "data_train.describe(include='object').transpose()"
      ],
      "execution_count": 6,
      "outputs": [
        {
          "output_type": "execute_result",
          "data": {
            "text/html": [
              "<div>\n",
              "<style scoped>\n",
              "    .dataframe tbody tr th:only-of-type {\n",
              "        vertical-align: middle;\n",
              "    }\n",
              "\n",
              "    .dataframe tbody tr th {\n",
              "        vertical-align: top;\n",
              "    }\n",
              "\n",
              "    .dataframe thead th {\n",
              "        text-align: right;\n",
              "    }\n",
              "</style>\n",
              "<table border=\"1\" class=\"dataframe\">\n",
              "  <thead>\n",
              "    <tr style=\"text-align: right;\">\n",
              "      <th></th>\n",
              "      <th>count</th>\n",
              "      <th>unique</th>\n",
              "      <th>top</th>\n",
              "      <th>freq</th>\n",
              "    </tr>\n",
              "  </thead>\n",
              "  <tbody>\n",
              "    <tr>\n",
              "      <th>Jenis_Kelamin</th>\n",
              "      <td>271391</td>\n",
              "      <td>2</td>\n",
              "      <td>Pria</td>\n",
              "      <td>146678</td>\n",
              "    </tr>\n",
              "    <tr>\n",
              "      <th>Umur_Kendaraan</th>\n",
              "      <td>271556</td>\n",
              "      <td>3</td>\n",
              "      <td>1-2 Tahun</td>\n",
              "      <td>142761</td>\n",
              "    </tr>\n",
              "    <tr>\n",
              "      <th>Kendaraan_Rusak</th>\n",
              "      <td>271643</td>\n",
              "      <td>2</td>\n",
              "      <td>Pernah</td>\n",
              "      <td>137123</td>\n",
              "    </tr>\n",
              "  </tbody>\n",
              "</table>\n",
              "</div>"
            ],
            "text/plain": [
              "                  count unique        top    freq\n",
              "Jenis_Kelamin    271391      2       Pria  146678\n",
              "Umur_Kendaraan   271556      3  1-2 Tahun  142761\n",
              "Kendaraan_Rusak  271643      2     Pernah  137123"
            ]
          },
          "metadata": {},
          "execution_count": 6
        }
      ]
    },
    {
      "cell_type": "markdown",
      "metadata": {
        "id": "TjTLOr6A4k9H"
      },
      "source": [
        "### **Viewing Data Information (Column, Non-Null, Data Type)**"
      ]
    },
    {
      "cell_type": "code",
      "metadata": {
        "colab": {
          "base_uri": "https://localhost:8080/"
        },
        "id": "BMd4r7zK4rf4",
        "outputId": "3ec2ea43-7f57-4fb3-9b11-0e5634b3a899"
      },
      "source": [
        "# Show Information about data -> column, non-null, data type\n",
        "data_train.info()"
      ],
      "execution_count": 7,
      "outputs": [
        {
          "output_type": "stream",
          "name": "stdout",
          "text": [
            "<class 'pandas.core.frame.DataFrame'>\n",
            "RangeIndex: 285831 entries, 0 to 285830\n",
            "Data columns (total 12 columns):\n",
            " #   Column             Non-Null Count   Dtype  \n",
            "---  ------             --------------   -----  \n",
            " 0   id                 285831 non-null  int64  \n",
            " 1   Jenis_Kelamin      271391 non-null  object \n",
            " 2   Umur               271617 non-null  float64\n",
            " 3   SIM                271427 non-null  float64\n",
            " 4   Kode_Daerah        271525 non-null  float64\n",
            " 5   Sudah_Asuransi     271602 non-null  float64\n",
            " 6   Umur_Kendaraan     271556 non-null  object \n",
            " 7   Kendaraan_Rusak    271643 non-null  object \n",
            " 8   Premi              271262 non-null  float64\n",
            " 9   Kanal_Penjualan    271532 non-null  float64\n",
            " 10  Lama_Berlangganan  271839 non-null  float64\n",
            " 11  Tertarik           285831 non-null  int64  \n",
            "dtypes: float64(7), int64(2), object(3)\n",
            "memory usage: 26.2+ MB\n"
          ]
        }
      ]
    },
    {
      "cell_type": "code",
      "metadata": {
        "colab": {
          "base_uri": "https://localhost:8080/"
        },
        "id": "HYMGHgqZr-GL",
        "outputId": "2db81433-d02a-47c0-ffec-22029f5bb35e"
      },
      "source": [
        "# Show the unique values that exist in each columns\n",
        "for col in data_train.columns:\n",
        "  if col == \"id\":\n",
        "    continue\n",
        "  print('-'*30 + \" \" + col +  \" \" +  '-'*30)\n",
        "  print()\n",
        "  print(data_train[col].unique())\n",
        "  print()"
      ],
      "execution_count": 8,
      "outputs": [
        {
          "output_type": "stream",
          "name": "stdout",
          "text": [
            "------------------------------ Jenis_Kelamin ------------------------------\n",
            "\n",
            "['Wanita' 'Pria' nan]\n",
            "\n",
            "------------------------------ Umur ------------------------------\n",
            "\n",
            "[30. 48. 21. 58. 50. 33. 23. 20. 54. 25. nan 66. 31. 24. 22. 52. 26. 46.\n",
            " 41. 45. 29. 68. 73. 27. 34. 60. 44. 47. 75. 38. 35. 53. 71. 59. 57. 65.\n",
            " 51. 39. 37. 28. 36. 67. 49. 42. 72. 69. 63. 40. 32. 76. 56. 43. 64. 55.\n",
            " 61. 80. 78. 70. 74. 62. 77. 79. 82. 81. 85. 84. 83.]\n",
            "\n",
            "------------------------------ SIM ------------------------------\n",
            "\n",
            "[ 1. nan  0.]\n",
            "\n",
            "------------------------------ Kode_Daerah ------------------------------\n",
            "\n",
            "[33. 39. 46. 48. 35.  8. 28. 29. 14. 12. nan 24. 30. 15.  9. 11. 10. 34.\n",
            " 16.  3. 36. 47. 49. 38. 43. 44.  6. 41. 37. 31. 26. 18. 13. 20. 45. 50.\n",
            " 32.  2. 21.  7. 52. 17.  4.  0. 25. 23. 40.  5. 27. 19. 42.  1. 22. 51.]\n",
            "\n",
            "------------------------------ Sudah_Asuransi ------------------------------\n",
            "\n",
            "[ 1.  0. nan]\n",
            "\n",
            "------------------------------ Umur_Kendaraan ------------------------------\n",
            "\n",
            "['< 1 Tahun' '> 2 Tahun' '1-2 Tahun' nan]\n",
            "\n",
            "------------------------------ Kendaraan_Rusak ------------------------------\n",
            "\n",
            "['Tidak' 'Pernah' nan]\n",
            "\n",
            "------------------------------ Premi ------------------------------\n",
            "\n",
            "[28029. 25800. 32733. ... 77615. 72125. 52138.]\n",
            "\n",
            "------------------------------ Kanal_Penjualan ------------------------------\n",
            "\n",
            "[152.  29. 160. 124.  88. 145.  31.  nan  26. 156. 122.   7. 154.  25.\n",
            "  12.  11. 151. 133. 157.  30.  13.   1.  52.  23.  14.  16. 163.   4.\n",
            " 138.  55.   8. 155. 125.  24.  22. 120.   3.  94. 153. 131.  60. 150.\n",
            "  47.  10. 158.  44.  15. 159.  18.  21.  37.  19. 148. 113. 130.  35.\n",
            " 147. 129.  64.  56.  61. 136.   9. 127. 119. 106. 111. 135.  65.  42.\n",
            " 116. 140.  45. 132.  48. 139.  90.  59.  66.  54. 108.  36.  86.  80.\n",
            "  46.  40.  95.  58.  89. 109. 137.  53.  75. 128.  97. 123. 103. 126.\n",
            " 107.  91. 100. 110.  78.  68.  38.  63. 121.  57.  92.  32.  93. 134.\n",
            "  49. 114.  87. 118.  98. 117. 146.  76.  96.  73.  20.  51.  99.  83.\n",
            "  81.  17.  84.  50.  79.  28. 105. 104.  69.  62. 144.   2.  74.  39.\n",
            " 101.  71. 112.  33.  34.  67.  82. 102.  27.   6.  70. 115.]\n",
            "\n",
            "------------------------------ Lama_Berlangganan ------------------------------\n",
            "\n",
            "[ 97. 158. 119.  63. 194. 171. 215. 222.  31.  28. 282. 210. 232. 140.\n",
            " 281. 132. 225.  43.  11. 230. 284. 264.  nan  94. 298.  92.  38.  30.\n",
            " 286.  50. 241. 240. 214. 165. 188. 170. 183. 166.  69.  41. 234. 250.\n",
            " 168. 113. 102. 235.  93.  48. 167.  12. 196. 191. 221. 155. 145. 269.\n",
            " 247. 189. 139. 243. 153. 248. 173.  75. 110.  98. 272. 299. 283. 157.\n",
            "  36.  66.  79. 226. 242.  26. 156. 138. 227. 121. 266.  90. 276.  82.\n",
            "  54. 105.  62. 254. 164. 267. 263. 224. 115. 175. 260.  13.  44.  21.\n",
            " 195. 249. 103. 117. 202.  80.  33. 133.  35.  61. 135.  73.  53. 129.\n",
            " 236.  42. 205. 275.  84. 111.  99. 172. 270. 280. 262. 187. 200. 208.\n",
            " 134. 120. 278. 237.  52. 177. 125.  67. 274. 293. 186. 150. 124.  39.\n",
            " 100.  25. 297. 123.  24.  74.  78. 233. 209. 287. 201. 228.  60. 216.\n",
            " 160.  95. 154. 112. 256.  17. 244.  88. 104. 251. 136. 141.  19. 161.\n",
            "  57.  37. 204. 128.  47.  49.  91.  32. 147.  89. 217. 107. 229.  64.\n",
            " 181. 127. 288. 179.  70. 238. 178. 148.  56. 190. 182. 259. 151. 271.\n",
            " 184. 180. 220. 258. 239. 130. 279. 294.  96. 245. 197. 206. 174. 253.\n",
            "  29. 185.  27. 219. 176. 149. 192. 289.  65. 292. 246. 295. 169.  10.\n",
            "  34.  40. 231. 203.  85. 131.  81.  20. 162. 213. 159.  68.  71. 106.\n",
            " 109.  18.  22. 285.  83. 118. 268.  77. 296. 108. 198. 223.  55. 207.\n",
            "  23. 126. 101. 211. 152.  72. 114. 218. 116.  45. 257. 193.  59.  87.\n",
            " 291. 199. 265. 273. 212.  15. 142. 144.  58. 255. 137.  76. 122. 143.\n",
            " 252. 277. 261. 146. 290.  16.  14.  46.  86.  51. 163.]\n",
            "\n",
            "------------------------------ Tertarik ------------------------------\n",
            "\n",
            "[0 1]\n",
            "\n"
          ]
        }
      ]
    },
    {
      "cell_type": "code",
      "metadata": {
        "colab": {
          "base_uri": "https://localhost:8080/"
        },
        "id": "kOjRZeG7q-pz",
        "outputId": "8f37c9e7-322f-4240-961d-71f21eb4351e"
      },
      "source": [
        "# View the number of each value in each columns\n",
        "for col in data_train.columns:\n",
        "  if col == \"id\":\n",
        "    continue\n",
        "  print('-'*30 + \" \" + col +  \" \" +  '-'*30)\n",
        "  print(data_train[col].value_counts())"
      ],
      "execution_count": 9,
      "outputs": [
        {
          "output_type": "stream",
          "name": "stdout",
          "text": [
            "------------------------------ Jenis_Kelamin ------------------------------\n",
            "Pria      146678\n",
            "Wanita    124713\n",
            "Name: Jenis_Kelamin, dtype: int64\n",
            "------------------------------ Umur ------------------------------\n",
            "24.0    18443\n",
            "23.0    17403\n",
            "22.0    14975\n",
            "25.0    14634\n",
            "21.0    11652\n",
            "        ...  \n",
            "81.0       42\n",
            "82.0       20\n",
            "83.0       16\n",
            "84.0        9\n",
            "85.0        8\n",
            "Name: Umur, Length: 66, dtype: int64\n",
            "------------------------------ SIM ------------------------------\n",
            "1.0    270843\n",
            "0.0       584\n",
            "Name: SIM, dtype: int64\n",
            "------------------------------ Kode_Daerah ------------------------------\n",
            "28.0    75439\n",
            "8.0     24186\n",
            "46.0    14157\n",
            "41.0    12931\n",
            "15.0     9500\n",
            "30.0     8630\n",
            "29.0     7931\n",
            "50.0     7349\n",
            "3.0      6594\n",
            "11.0     6548\n",
            "36.0     6285\n",
            "33.0     5459\n",
            "47.0     5371\n",
            "35.0     4963\n",
            "6.0      4489\n",
            "45.0     4009\n",
            "37.0     3917\n",
            "18.0     3662\n",
            "48.0     3386\n",
            "39.0     3384\n",
            "14.0     3310\n",
            "10.0     3049\n",
            "21.0     3019\n",
            "2.0      2961\n",
            "13.0     2875\n",
            "7.0      2323\n",
            "12.0     2281\n",
            "9.0      2213\n",
            "27.0     2023\n",
            "32.0     2012\n",
            "43.0     1902\n",
            "17.0     1866\n",
            "26.0     1852\n",
            "25.0     1786\n",
            "24.0     1738\n",
            "38.0     1448\n",
            "0.0      1444\n",
            "16.0     1436\n",
            "31.0     1412\n",
            "20.0     1394\n",
            "23.0     1369\n",
            "49.0     1305\n",
            "4.0      1301\n",
            "34.0     1188\n",
            "19.0     1055\n",
            "40.0      934\n",
            "22.0      932\n",
            "5.0       900\n",
            "1.0       707\n",
            "44.0      564\n",
            "42.0      420\n",
            "52.0      189\n",
            "51.0      127\n",
            "Name: Kode_Daerah, dtype: int64\n",
            "------------------------------ Sudah_Asuransi ------------------------------\n",
            "0.0    146997\n",
            "1.0    124605\n",
            "Name: Sudah_Asuransi, dtype: int64\n",
            "------------------------------ Umur_Kendaraan ------------------------------\n",
            "1-2 Tahun    142761\n",
            "< 1 Tahun    117378\n",
            "> 2 Tahun     11417\n",
            "Name: Umur_Kendaraan, dtype: int64\n",
            "------------------------------ Kendaraan_Rusak ------------------------------\n",
            "Pernah    137123\n",
            "Tidak     134520\n",
            "Name: Kendaraan_Rusak, dtype: int64\n",
            "------------------------------ Premi ------------------------------\n",
            "2630.0     46272\n",
            "69856.0       98\n",
            "38287.0       29\n",
            "45179.0       28\n",
            "30117.0       28\n",
            "           ...  \n",
            "76473.0        1\n",
            "47889.0        1\n",
            "59991.0        1\n",
            "86426.0        1\n",
            "69430.0        1\n",
            "Name: Premi, Length: 45114, dtype: int64\n",
            "------------------------------ Kanal_Penjualan ------------------------------\n",
            "152.0    96090\n",
            "26.0     56816\n",
            "124.0    52756\n",
            "160.0    15436\n",
            "156.0     7542\n",
            "         ...  \n",
            "70.0         1\n",
            "79.0         1\n",
            "144.0        1\n",
            "33.0         1\n",
            "84.0         1\n",
            "Name: Kanal_Penjualan, Length: 151, dtype: int64\n",
            "------------------------------ Lama_Berlangganan ------------------------------\n",
            "158.0    1028\n",
            "126.0    1021\n",
            "73.0     1021\n",
            "263.0    1013\n",
            "256.0    1011\n",
            "         ... \n",
            "93.0      873\n",
            "295.0     872\n",
            "264.0     871\n",
            "205.0     859\n",
            "32.0      838\n",
            "Name: Lama_Berlangganan, Length: 290, dtype: int64\n",
            "------------------------------ Tertarik ------------------------------\n",
            "0    250825\n",
            "1     35006\n",
            "Name: Tertarik, dtype: int64\n"
          ]
        }
      ]
    },
    {
      "cell_type": "code",
      "metadata": {
        "colab": {
          "base_uri": "https://localhost:8080/",
          "height": 715
        },
        "id": "u1q18pVl89mB",
        "outputId": "f5de52a3-a381-4e23-f135-f7f97e7dea10"
      },
      "source": [
        "# check outliers for each columns, except column \"id\", \"Tertarik\", and column which has object data type\n",
        "plt.figure(figsize=(18,12))\n",
        "i = 1\n",
        "for col in data_train.columns:\n",
        "  if data_train[col].dtypes == 'object' or col == \"id\" or col == \"Tertarik\":\n",
        "    continue\n",
        "  plt.subplot(3,3,i)\n",
        "  sns.boxplot(data=data_train, x=col, color='royalblue', linewidth=1)\n",
        "  i+=1\n",
        "plt.show()"
      ],
      "execution_count": 10,
      "outputs": [
        {
          "output_type": "display_data",
          "data": {
            "image/png": "[encoded data removed]",
            "text/plain": [
              "<Figure size 1296x864 with 7 Axes>"
            ]
          },
          "metadata": {
            "needs_background": "light"
          }
        }
      ]
    },
    {
      "cell_type": "markdown",
      "metadata": {
        "id": "469kX1CIqIA0"
      },
      "source": [
        "### **Drop Column \"id\"**"
      ]
    },
    {
      "cell_type": "code",
      "metadata": {
        "id": "FG9z_KvcqEcq"
      },
      "source": [
        "# Drop column \"id\", with the reason later will check duplicate data\n",
        "data_train = data_train.drop(\"id\",axis=1)"
      ],
      "execution_count": 11,
      "outputs": []
    },
    {
      "cell_type": "code",
      "metadata": {
        "colab": {
          "base_uri": "https://localhost:8080/",
          "height": 206
        },
        "id": "ibQb7Em3q46b",
        "outputId": "d6d6fc3a-69e6-4171-d260-05d3c5f2b602"
      },
      "source": [
        "# show first 5 data\n",
        "data_train.head()"
      ],
      "execution_count": 12,
      "outputs": [
        {
          "output_type": "execute_result",
          "data": {
            "text/html": [
              "<div>\n",
              "<style scoped>\n",
              "    .dataframe tbody tr th:only-of-type {\n",
              "        vertical-align: middle;\n",
              "    }\n",
              "\n",
              "    .dataframe tbody tr th {\n",
              "        vertical-align: top;\n",
              "    }\n",
              "\n",
              "    .dataframe thead th {\n",
              "        text-align: right;\n",
              "    }\n",
              "</style>\n",
              "<table border=\"1\" class=\"dataframe\">\n",
              "  <thead>\n",
              "    <tr style=\"text-align: right;\">\n",
              "      <th></th>\n",
              "      <th>Jenis_Kelamin</th>\n",
              "      <th>Umur</th>\n",
              "      <th>SIM</th>\n",
              "      <th>Kode_Daerah</th>\n",
              "      <th>Sudah_Asuransi</th>\n",
              "      <th>Umur_Kendaraan</th>\n",
              "      <th>Kendaraan_Rusak</th>\n",
              "      <th>Premi</th>\n",
              "      <th>Kanal_Penjualan</th>\n",
              "      <th>Lama_Berlangganan</th>\n",
              "      <th>Tertarik</th>\n",
              "    </tr>\n",
              "  </thead>\n",
              "  <tbody>\n",
              "    <tr>\n",
              "      <th>0</th>\n",
              "      <td>Wanita</td>\n",
              "      <td>30.0</td>\n",
              "      <td>1.0</td>\n",
              "      <td>33.0</td>\n",
              "      <td>1.0</td>\n",
              "      <td>&lt; 1 Tahun</td>\n",
              "      <td>Tidak</td>\n",
              "      <td>28029.0</td>\n",
              "      <td>152.0</td>\n",
              "      <td>97.0</td>\n",
              "      <td>0</td>\n",
              "    </tr>\n",
              "    <tr>\n",
              "      <th>1</th>\n",
              "      <td>Pria</td>\n",
              "      <td>48.0</td>\n",
              "      <td>1.0</td>\n",
              "      <td>39.0</td>\n",
              "      <td>0.0</td>\n",
              "      <td>&gt; 2 Tahun</td>\n",
              "      <td>Pernah</td>\n",
              "      <td>25800.0</td>\n",
              "      <td>29.0</td>\n",
              "      <td>158.0</td>\n",
              "      <td>0</td>\n",
              "    </tr>\n",
              "    <tr>\n",
              "      <th>2</th>\n",
              "      <td>NaN</td>\n",
              "      <td>21.0</td>\n",
              "      <td>1.0</td>\n",
              "      <td>46.0</td>\n",
              "      <td>1.0</td>\n",
              "      <td>&lt; 1 Tahun</td>\n",
              "      <td>Tidak</td>\n",
              "      <td>32733.0</td>\n",
              "      <td>160.0</td>\n",
              "      <td>119.0</td>\n",
              "      <td>0</td>\n",
              "    </tr>\n",
              "    <tr>\n",
              "      <th>3</th>\n",
              "      <td>Wanita</td>\n",
              "      <td>58.0</td>\n",
              "      <td>1.0</td>\n",
              "      <td>48.0</td>\n",
              "      <td>0.0</td>\n",
              "      <td>1-2 Tahun</td>\n",
              "      <td>Tidak</td>\n",
              "      <td>2630.0</td>\n",
              "      <td>124.0</td>\n",
              "      <td>63.0</td>\n",
              "      <td>0</td>\n",
              "    </tr>\n",
              "    <tr>\n",
              "      <th>4</th>\n",
              "      <td>Pria</td>\n",
              "      <td>50.0</td>\n",
              "      <td>1.0</td>\n",
              "      <td>35.0</td>\n",
              "      <td>0.0</td>\n",
              "      <td>&gt; 2 Tahun</td>\n",
              "      <td>NaN</td>\n",
              "      <td>34857.0</td>\n",
              "      <td>88.0</td>\n",
              "      <td>194.0</td>\n",
              "      <td>0</td>\n",
              "    </tr>\n",
              "  </tbody>\n",
              "</table>\n",
              "</div>"
            ],
            "text/plain": [
              "  Jenis_Kelamin  Umur  SIM  ...  Kanal_Penjualan  Lama_Berlangganan Tertarik\n",
              "0        Wanita  30.0  1.0  ...            152.0               97.0        0\n",
              "1          Pria  48.0  1.0  ...             29.0              158.0        0\n",
              "2           NaN  21.0  1.0  ...            160.0              119.0        0\n",
              "3        Wanita  58.0  1.0  ...            124.0               63.0        0\n",
              "4          Pria  50.0  1.0  ...             88.0              194.0        0\n",
              "\n",
              "[5 rows x 11 columns]"
            ]
          },
          "metadata": {},
          "execution_count": 12
        }
      ]
    },
    {
      "cell_type": "code",
      "metadata": {
        "colab": {
          "base_uri": "https://localhost:8080/"
        },
        "id": "L3YWxQX0qx5r",
        "outputId": "e17ac4f6-f892-400f-8482-9c2105784093"
      },
      "source": [
        "# show the number of rows and columns of data train\n",
        "baris, kolom = data_train.shape\n",
        "print('Baris =', baris, ', Kolom =',kolom)"
      ],
      "execution_count": 13,
      "outputs": [
        {
          "output_type": "stream",
          "name": "stdout",
          "text": [
            "Baris = 285831 , Kolom = 11\n"
          ]
        }
      ]
    },
    {
      "cell_type": "markdown",
      "metadata": {
        "id": "HVQQHqiZnGDT"
      },
      "source": [
        "### **Check Duplicate Data**"
      ]
    },
    {
      "cell_type": "code",
      "metadata": {
        "colab": {
          "base_uri": "https://localhost:8080/",
          "height": 441
        },
        "id": "Z0zB2_qwnJmr",
        "outputId": "0fe8b881-e003-4325-8344-34ab52538894"
      },
      "source": [
        "# check duplicate data on data train\n",
        "print(\"Banyaknya data yang duplicate =\", data_train.duplicated().sum())\n",
        "duplicated_data = data_train[data_train.duplicated()]\n",
        "duplicated_data"
      ],
      "execution_count": 14,
      "outputs": [
        {
          "output_type": "stream",
          "name": "stdout",
          "text": [
            "Banyaknya data yang duplicate = 169\n"
          ]
        },
        {
          "output_type": "execute_result",
          "data": {
            "text/html": [
              "<div>\n",
              "<style scoped>\n",
              "    .dataframe tbody tr th:only-of-type {\n",
              "        vertical-align: middle;\n",
              "    }\n",
              "\n",
              "    .dataframe tbody tr th {\n",
              "        vertical-align: top;\n",
              "    }\n",
              "\n",
              "    .dataframe thead th {\n",
              "        text-align: right;\n",
              "    }\n",
              "</style>\n",
              "<table border=\"1\" class=\"dataframe\">\n",
              "  <thead>\n",
              "    <tr style=\"text-align: right;\">\n",
              "      <th></th>\n",
              "      <th>Jenis_Kelamin</th>\n",
              "      <th>Umur</th>\n",
              "      <th>SIM</th>\n",
              "      <th>Kode_Daerah</th>\n",
              "      <th>Sudah_Asuransi</th>\n",
              "      <th>Umur_Kendaraan</th>\n",
              "      <th>Kendaraan_Rusak</th>\n",
              "      <th>Premi</th>\n",
              "      <th>Kanal_Penjualan</th>\n",
              "      <th>Lama_Berlangganan</th>\n",
              "      <th>Tertarik</th>\n",
              "    </tr>\n",
              "  </thead>\n",
              "  <tbody>\n",
              "    <tr>\n",
              "      <th>24277</th>\n",
              "      <td>Pria</td>\n",
              "      <td>21.0</td>\n",
              "      <td>1.0</td>\n",
              "      <td>14.0</td>\n",
              "      <td>1.0</td>\n",
              "      <td>&lt; 1 Tahun</td>\n",
              "      <td>Tidak</td>\n",
              "      <td>2630.0</td>\n",
              "      <td>160.0</td>\n",
              "      <td>202.0</td>\n",
              "      <td>0</td>\n",
              "    </tr>\n",
              "    <tr>\n",
              "      <th>38835</th>\n",
              "      <td>Wanita</td>\n",
              "      <td>23.0</td>\n",
              "      <td>1.0</td>\n",
              "      <td>41.0</td>\n",
              "      <td>1.0</td>\n",
              "      <td>&lt; 1 Tahun</td>\n",
              "      <td>Tidak</td>\n",
              "      <td>NaN</td>\n",
              "      <td>152.0</td>\n",
              "      <td>NaN</td>\n",
              "      <td>0</td>\n",
              "    </tr>\n",
              "    <tr>\n",
              "      <th>40755</th>\n",
              "      <td>Wanita</td>\n",
              "      <td>69.0</td>\n",
              "      <td>1.0</td>\n",
              "      <td>1.0</td>\n",
              "      <td>1.0</td>\n",
              "      <td>1-2 Tahun</td>\n",
              "      <td>Tidak</td>\n",
              "      <td>2630.0</td>\n",
              "      <td>124.0</td>\n",
              "      <td>22.0</td>\n",
              "      <td>0</td>\n",
              "    </tr>\n",
              "    <tr>\n",
              "      <th>43123</th>\n",
              "      <td>Wanita</td>\n",
              "      <td>53.0</td>\n",
              "      <td>1.0</td>\n",
              "      <td>28.0</td>\n",
              "      <td>1.0</td>\n",
              "      <td>1-2 Tahun</td>\n",
              "      <td>Tidak</td>\n",
              "      <td>2630.0</td>\n",
              "      <td>124.0</td>\n",
              "      <td>143.0</td>\n",
              "      <td>0</td>\n",
              "    </tr>\n",
              "    <tr>\n",
              "      <th>43855</th>\n",
              "      <td>Pria</td>\n",
              "      <td>53.0</td>\n",
              "      <td>1.0</td>\n",
              "      <td>28.0</td>\n",
              "      <td>0.0</td>\n",
              "      <td>1-2 Tahun</td>\n",
              "      <td>Pernah</td>\n",
              "      <td>NaN</td>\n",
              "      <td>124.0</td>\n",
              "      <td>48.0</td>\n",
              "      <td>0</td>\n",
              "    </tr>\n",
              "    <tr>\n",
              "      <th>...</th>\n",
              "      <td>...</td>\n",
              "      <td>...</td>\n",
              "      <td>...</td>\n",
              "      <td>...</td>\n",
              "      <td>...</td>\n",
              "      <td>...</td>\n",
              "      <td>...</td>\n",
              "      <td>...</td>\n",
              "      <td>...</td>\n",
              "      <td>...</td>\n",
              "      <td>...</td>\n",
              "    </tr>\n",
              "    <tr>\n",
              "      <th>279025</th>\n",
              "      <td>Wanita</td>\n",
              "      <td>26.0</td>\n",
              "      <td>1.0</td>\n",
              "      <td>15.0</td>\n",
              "      <td>0.0</td>\n",
              "      <td>&lt; 1 Tahun</td>\n",
              "      <td>Tidak</td>\n",
              "      <td>NaN</td>\n",
              "      <td>152.0</td>\n",
              "      <td>236.0</td>\n",
              "      <td>0</td>\n",
              "    </tr>\n",
              "    <tr>\n",
              "      <th>279714</th>\n",
              "      <td>Pria</td>\n",
              "      <td>24.0</td>\n",
              "      <td>1.0</td>\n",
              "      <td>28.0</td>\n",
              "      <td>1.0</td>\n",
              "      <td>&lt; 1 Tahun</td>\n",
              "      <td>Tidak</td>\n",
              "      <td>2630.0</td>\n",
              "      <td>160.0</td>\n",
              "      <td>NaN</td>\n",
              "      <td>0</td>\n",
              "    </tr>\n",
              "    <tr>\n",
              "      <th>281991</th>\n",
              "      <td>Pria</td>\n",
              "      <td>40.0</td>\n",
              "      <td>1.0</td>\n",
              "      <td>28.0</td>\n",
              "      <td>0.0</td>\n",
              "      <td>1-2 Tahun</td>\n",
              "      <td>Pernah</td>\n",
              "      <td>2630.0</td>\n",
              "      <td>124.0</td>\n",
              "      <td>NaN</td>\n",
              "      <td>0</td>\n",
              "    </tr>\n",
              "    <tr>\n",
              "      <th>282117</th>\n",
              "      <td>Pria</td>\n",
              "      <td>40.0</td>\n",
              "      <td>1.0</td>\n",
              "      <td>48.0</td>\n",
              "      <td>0.0</td>\n",
              "      <td>1-2 Tahun</td>\n",
              "      <td>Pernah</td>\n",
              "      <td>2630.0</td>\n",
              "      <td>124.0</td>\n",
              "      <td>152.0</td>\n",
              "      <td>0</td>\n",
              "    </tr>\n",
              "    <tr>\n",
              "      <th>285254</th>\n",
              "      <td>Wanita</td>\n",
              "      <td>43.0</td>\n",
              "      <td>1.0</td>\n",
              "      <td>28.0</td>\n",
              "      <td>0.0</td>\n",
              "      <td>1-2 Tahun</td>\n",
              "      <td>Pernah</td>\n",
              "      <td>2630.0</td>\n",
              "      <td>124.0</td>\n",
              "      <td>252.0</td>\n",
              "      <td>0</td>\n",
              "    </tr>\n",
              "  </tbody>\n",
              "</table>\n",
              "<p>169 rows × 11 columns</p>\n",
              "</div>"
            ],
            "text/plain": [
              "       Jenis_Kelamin  Umur  SIM  ...  Kanal_Penjualan  Lama_Berlangganan Tertarik\n",
              "24277           Pria  21.0  1.0  ...            160.0              202.0        0\n",
              "38835         Wanita  23.0  1.0  ...            152.0                NaN        0\n",
              "40755         Wanita  69.0  1.0  ...            124.0               22.0        0\n",
              "43123         Wanita  53.0  1.0  ...            124.0              143.0        0\n",
              "43855           Pria  53.0  1.0  ...            124.0               48.0        0\n",
              "...              ...   ...  ...  ...              ...                ...      ...\n",
              "279025        Wanita  26.0  1.0  ...            152.0              236.0        0\n",
              "279714          Pria  24.0  1.0  ...            160.0                NaN        0\n",
              "281991          Pria  40.0  1.0  ...            124.0                NaN        0\n",
              "282117          Pria  40.0  1.0  ...            124.0              152.0        0\n",
              "285254        Wanita  43.0  1.0  ...            124.0              252.0        0\n",
              "\n",
              "[169 rows x 11 columns]"
            ]
          },
          "metadata": {},
          "execution_count": 14
        }
      ]
    },
    {
      "cell_type": "markdown",
      "metadata": {
        "id": "x9ED-oH-xrCw"
      },
      "source": [
        "### **Viewing The Sum and Percentage of Missing Values For Each Columns**"
      ]
    },
    {
      "cell_type": "code",
      "metadata": {
        "colab": {
          "base_uri": "https://localhost:8080/",
          "height": 394
        },
        "id": "TJBmX4ccx31w",
        "outputId": "f4a3aacd-2133-4991-d295-85cbe79ef1c3"
      },
      "source": [
        "# Sum of missing values for each columns\n",
        "arr_sum_miss_val = data_train.isna().sum().values\n",
        "# Percantage of missing values for each columns\n",
        "arr_perc_miss_val = (data_train.isna().sum() / len(data_train) * 100).values\n",
        "# Show sum and percantage of missing values for each columns\n",
        "miss_val_df = pd.DataFrame(data={\"Sum Missing Values\" : arr_sum_miss_val, \"Percentage Missing Values(%)\" : arr_perc_miss_val}, index=data_train.columns)\n",
        "miss_val_df"
      ],
      "execution_count": 15,
      "outputs": [
        {
          "output_type": "execute_result",
          "data": {
            "text/html": [
              "<div>\n",
              "<style scoped>\n",
              "    .dataframe tbody tr th:only-of-type {\n",
              "        vertical-align: middle;\n",
              "    }\n",
              "\n",
              "    .dataframe tbody tr th {\n",
              "        vertical-align: top;\n",
              "    }\n",
              "\n",
              "    .dataframe thead th {\n",
              "        text-align: right;\n",
              "    }\n",
              "</style>\n",
              "<table border=\"1\" class=\"dataframe\">\n",
              "  <thead>\n",
              "    <tr style=\"text-align: right;\">\n",
              "      <th></th>\n",
              "      <th>Sum Missing Values</th>\n",
              "      <th>Percentage Missing Values(%)</th>\n",
              "    </tr>\n",
              "  </thead>\n",
              "  <tbody>\n",
              "    <tr>\n",
              "      <th>Jenis_Kelamin</th>\n",
              "      <td>14440</td>\n",
              "      <td>5.051936</td>\n",
              "    </tr>\n",
              "    <tr>\n",
              "      <th>Umur</th>\n",
              "      <td>14214</td>\n",
              "      <td>4.972869</td>\n",
              "    </tr>\n",
              "    <tr>\n",
              "      <th>SIM</th>\n",
              "      <td>14404</td>\n",
              "      <td>5.039341</td>\n",
              "    </tr>\n",
              "    <tr>\n",
              "      <th>Kode_Daerah</th>\n",
              "      <td>14306</td>\n",
              "      <td>5.005055</td>\n",
              "    </tr>\n",
              "    <tr>\n",
              "      <th>Sudah_Asuransi</th>\n",
              "      <td>14229</td>\n",
              "      <td>4.978116</td>\n",
              "    </tr>\n",
              "    <tr>\n",
              "      <th>Umur_Kendaraan</th>\n",
              "      <td>14275</td>\n",
              "      <td>4.994210</td>\n",
              "    </tr>\n",
              "    <tr>\n",
              "      <th>Kendaraan_Rusak</th>\n",
              "      <td>14188</td>\n",
              "      <td>4.963772</td>\n",
              "    </tr>\n",
              "    <tr>\n",
              "      <th>Premi</th>\n",
              "      <td>14569</td>\n",
              "      <td>5.097068</td>\n",
              "    </tr>\n",
              "    <tr>\n",
              "      <th>Kanal_Penjualan</th>\n",
              "      <td>14299</td>\n",
              "      <td>5.002606</td>\n",
              "    </tr>\n",
              "    <tr>\n",
              "      <th>Lama_Berlangganan</th>\n",
              "      <td>13992</td>\n",
              "      <td>4.895200</td>\n",
              "    </tr>\n",
              "    <tr>\n",
              "      <th>Tertarik</th>\n",
              "      <td>0</td>\n",
              "      <td>0.000000</td>\n",
              "    </tr>\n",
              "  </tbody>\n",
              "</table>\n",
              "</div>"
            ],
            "text/plain": [
              "                   Sum Missing Values  Percentage Missing Values(%)\n",
              "Jenis_Kelamin                   14440                      5.051936\n",
              "Umur                            14214                      4.972869\n",
              "SIM                             14404                      5.039341\n",
              "Kode_Daerah                     14306                      5.005055\n",
              "Sudah_Asuransi                  14229                      4.978116\n",
              "Umur_Kendaraan                  14275                      4.994210\n",
              "Kendaraan_Rusak                 14188                      4.963772\n",
              "Premi                           14569                      5.097068\n",
              "Kanal_Penjualan                 14299                      5.002606\n",
              "Lama_Berlangganan               13992                      4.895200\n",
              "Tertarik                            0                      0.000000"
            ]
          },
          "metadata": {},
          "execution_count": 15
        }
      ]
    },
    {
      "cell_type": "markdown",
      "source": [
        "### **Check the distribution of missing values**"
      ],
      "metadata": {
        "id": "uJADCPfl9Wtx"
      }
    },
    {
      "cell_type": "code",
      "metadata": {
        "colab": {
          "base_uri": "https://localhost:8080/",
          "height": 504
        },
        "id": "VMZhfwCf-OJY",
        "outputId": "89ddb85c-ed7d-4cf0-9a87-26c5b9bbaff0"
      },
      "source": [
        "# check the distribution of missing values in each rows and columns in the data train\n",
        "mno.matrix(data_train, figsize=(18,6))\n",
        "plt.show()"
      ],
      "execution_count": 16,
      "outputs": [
        {
          "output_type": "display_data",
          "data": {
            "image/png": "[encoded data removed]",
            "text/plain": [
              "<Figure size 1296x432 with 2 Axes>"
            ]
          },
          "metadata": {
            "needs_background": "light"
          }
        }
      ]
    },
    {
      "cell_type": "markdown",
      "metadata": {
        "id": "XXWlorIc4M21"
      },
      "source": [
        "### **Check Normal Distribution and Skewness**"
      ]
    },
    {
      "cell_type": "code",
      "metadata": {
        "colab": {
          "base_uri": "https://localhost:8080/",
          "height": 726
        },
        "id": "piIP7fek4MO9",
        "outputId": "6d075058-462a-46c6-df28-b436d3c64390"
      },
      "source": [
        "# check the normal distribution and skewness of each column, for consideration in handling missing values\n",
        "plt.figure(figsize=(18,12))\n",
        "i = 1\n",
        "for col in data_train.columns:\n",
        "  if data_train[col].dtypes == 'object' or col == \"Tertarik\":\n",
        "    continue\n",
        "  ax = plt.subplot(3,3,i)\n",
        "  plt.text(x=0.98, y=0.95,s=\"Skewness = %f\"%data_train[col].skew(), transform=ax.transAxes,verticalalignment='top', horizontalalignment='right',backgroundcolor='white', color='royalblue',fontweight=600, fontsize=10)\n",
        "  sns.histplot(data_train[col], kde=True, color='royalblue',bins=25)\n",
        "  i+=1\n",
        "plt.show()"
      ],
      "execution_count": 17,
      "outputs": [
        {
          "output_type": "display_data",
          "data": {
            "image/png": "[encoded data removed]",
            "text/plain": [
              "<Figure size 1296x864 with 7 Axes>"
            ]
          },
          "metadata": {
            "needs_background": "light"
          }
        }
      ]
    },
    {
      "cell_type": "markdown",
      "source": [
        "### **Check Correlation**"
      ],
      "metadata": {
        "id": "Zefc5RGn6EWk"
      }
    },
    {
      "cell_type": "code",
      "source": [
        "# Plot the correlation for all numerical data type columns using heatmap\n",
        "correlation = data_train.corr()\n",
        "plt.figure(figsize=(10,10))\n",
        "plt.title(\"Data Correlation Between Variables\", fontsize=18, pad=20)\n",
        "sns.heatmap(correlation, annot=True, linewidths=0.01, square=True,annot_kws={\"fontsize\":10})\n",
        "plt.show()"
      ],
      "metadata": {
        "colab": {
          "base_uri": "https://localhost:8080/",
          "height": 640
        },
        "id": "mV6bRc_D6Hjb",
        "outputId": "8aa974e5-9405-461e-86ff-1e2a046c3c0b"
      },
      "execution_count": 18,
      "outputs": [
        {
          "output_type": "display_data",
          "data": {
            "image/png": "[encoded data removed]",
            "text/plain": [
              "<Figure size 720x720 with 2 Axes>"
            ]
          },
          "metadata": {
            "needs_background": "light"
          }
        }
      ]
    },
    {
      "cell_type": "markdown",
      "source": [
        "### **Check The Proportion of Each Value in Target/Label Class (\"Tertarik\" Column)**"
      ],
      "metadata": {
        "id": "0iH_cBZdBtKL"
      }
    },
    {
      "cell_type": "code",
      "source": [
        "plt.figure(figsize=(7,7))\n",
        "plots = sns.countplot(x=\"Tertarik\", data=data_train)\n",
        "\n",
        "rects = plots.patches\n",
        "labels = [data_train[\"Tertarik\"].value_counts()[0], data_train[\"Tertarik\"].value_counts()[1]]\n",
        "for rect, label in zip(rects, labels):\n",
        "  height = rect.get_height()\n",
        "  plt.text(rect.get_x() + rect.get_width() / 2, height, label,ha='center', va='bottom',fontweight=600, fontsize=12)\n",
        "\n",
        "plt.show()"
      ],
      "metadata": {
        "colab": {
          "base_uri": "https://localhost:8080/",
          "height": 442
        },
        "id": "pRfRYd33mkEQ",
        "outputId": "706fa312-db26-4fa2-975e-e0b50ad0d08a"
      },
      "execution_count": 19,
      "outputs": [
        {
          "output_type": "display_data",
          "data": {
            "image/png": "[encoded data removed]",
            "text/plain": [
              "<Figure size 504x504 with 1 Axes>"
            ]
          },
          "metadata": {
            "needs_background": "light"
          }
        }
      ]
    },
    {
      "cell_type": "markdown",
      "metadata": {
        "id": "SdRzuJr-3C7H"
      },
      "source": [
        "## **LOAD DATA TEST**"
      ]
    },
    {
      "cell_type": "markdown",
      "source": [
        "# DATASET TEST EXPLORATION"
      ],
      "metadata": {
        "id": "eAHamcn91WGb"
      }
    },
    {
      "cell_type": "markdown",
      "source": [
        "##**Read Dataset**"
      ],
      "metadata": {
        "id": "hL9YNNHD1gaW"
      }
    },
    {
      "cell_type": "code",
      "metadata": {
        "colab": {
          "base_uri": "https://localhost:8080/",
          "height": 423
        },
        "id": "I68QEHULeC81",
        "outputId": "077f4872-d81b-4034-d2c8-d96475a24c28"
      },
      "source": [
        "data_test = pd.read_csv(\"https://github.com/rizkyfransisca/Tugas-Besar-Klasifikasi-Pembelajaran-Mesin/blob/main/kendaraan_test.csv?raw=true\")\n",
        "data_test"
      ],
      "execution_count": 20,
      "outputs": [
        {
          "output_type": "execute_result",
          "data": {
            "text/html": [
              "<div>\n",
              "<style scoped>\n",
              "    .dataframe tbody tr th:only-of-type {\n",
              "        vertical-align: middle;\n",
              "    }\n",
              "\n",
              "    .dataframe tbody tr th {\n",
              "        vertical-align: top;\n",
              "    }\n",
              "\n",
              "    .dataframe thead th {\n",
              "        text-align: right;\n",
              "    }\n",
              "</style>\n",
              "<table border=\"1\" class=\"dataframe\">\n",
              "  <thead>\n",
              "    <tr style=\"text-align: right;\">\n",
              "      <th></th>\n",
              "      <th>Jenis_Kelamin</th>\n",
              "      <th>Umur</th>\n",
              "      <th>SIM</th>\n",
              "      <th>Kode_Daerah</th>\n",
              "      <th>Sudah_Asuransi</th>\n",
              "      <th>Umur_Kendaraan</th>\n",
              "      <th>Kendaraan_Rusak</th>\n",
              "      <th>Premi</th>\n",
              "      <th>Kanal_Penjualan</th>\n",
              "      <th>Lama_Berlangganan</th>\n",
              "      <th>Tertarik</th>\n",
              "    </tr>\n",
              "  </thead>\n",
              "  <tbody>\n",
              "    <tr>\n",
              "      <th>0</th>\n",
              "      <td>Wanita</td>\n",
              "      <td>49</td>\n",
              "      <td>1</td>\n",
              "      <td>8</td>\n",
              "      <td>0</td>\n",
              "      <td>1-2 Tahun</td>\n",
              "      <td>Pernah</td>\n",
              "      <td>46963</td>\n",
              "      <td>26</td>\n",
              "      <td>145</td>\n",
              "      <td>0</td>\n",
              "    </tr>\n",
              "    <tr>\n",
              "      <th>1</th>\n",
              "      <td>Pria</td>\n",
              "      <td>22</td>\n",
              "      <td>1</td>\n",
              "      <td>47</td>\n",
              "      <td>1</td>\n",
              "      <td>&lt; 1 Tahun</td>\n",
              "      <td>Tidak</td>\n",
              "      <td>39624</td>\n",
              "      <td>152</td>\n",
              "      <td>241</td>\n",
              "      <td>0</td>\n",
              "    </tr>\n",
              "    <tr>\n",
              "      <th>2</th>\n",
              "      <td>Pria</td>\n",
              "      <td>24</td>\n",
              "      <td>1</td>\n",
              "      <td>28</td>\n",
              "      <td>1</td>\n",
              "      <td>&lt; 1 Tahun</td>\n",
              "      <td>Tidak</td>\n",
              "      <td>110479</td>\n",
              "      <td>152</td>\n",
              "      <td>62</td>\n",
              "      <td>0</td>\n",
              "    </tr>\n",
              "    <tr>\n",
              "      <th>3</th>\n",
              "      <td>Pria</td>\n",
              "      <td>46</td>\n",
              "      <td>1</td>\n",
              "      <td>8</td>\n",
              "      <td>1</td>\n",
              "      <td>1-2 Tahun</td>\n",
              "      <td>Tidak</td>\n",
              "      <td>36266</td>\n",
              "      <td>124</td>\n",
              "      <td>34</td>\n",
              "      <td>0</td>\n",
              "    </tr>\n",
              "    <tr>\n",
              "      <th>4</th>\n",
              "      <td>Pria</td>\n",
              "      <td>35</td>\n",
              "      <td>1</td>\n",
              "      <td>23</td>\n",
              "      <td>0</td>\n",
              "      <td>1-2 Tahun</td>\n",
              "      <td>Pernah</td>\n",
              "      <td>26963</td>\n",
              "      <td>152</td>\n",
              "      <td>229</td>\n",
              "      <td>0</td>\n",
              "    </tr>\n",
              "    <tr>\n",
              "      <th>...</th>\n",
              "      <td>...</td>\n",
              "      <td>...</td>\n",
              "      <td>...</td>\n",
              "      <td>...</td>\n",
              "      <td>...</td>\n",
              "      <td>...</td>\n",
              "      <td>...</td>\n",
              "      <td>...</td>\n",
              "      <td>...</td>\n",
              "      <td>...</td>\n",
              "      <td>...</td>\n",
              "    </tr>\n",
              "    <tr>\n",
              "      <th>47634</th>\n",
              "      <td>Pria</td>\n",
              "      <td>61</td>\n",
              "      <td>1</td>\n",
              "      <td>46</td>\n",
              "      <td>0</td>\n",
              "      <td>&gt; 2 Tahun</td>\n",
              "      <td>Pernah</td>\n",
              "      <td>31039</td>\n",
              "      <td>124</td>\n",
              "      <td>67</td>\n",
              "      <td>0</td>\n",
              "    </tr>\n",
              "    <tr>\n",
              "      <th>47635</th>\n",
              "      <td>Pria</td>\n",
              "      <td>41</td>\n",
              "      <td>1</td>\n",
              "      <td>15</td>\n",
              "      <td>0</td>\n",
              "      <td>1-2 Tahun</td>\n",
              "      <td>Pernah</td>\n",
              "      <td>2630</td>\n",
              "      <td>157</td>\n",
              "      <td>232</td>\n",
              "      <td>0</td>\n",
              "    </tr>\n",
              "    <tr>\n",
              "      <th>47636</th>\n",
              "      <td>Pria</td>\n",
              "      <td>24</td>\n",
              "      <td>1</td>\n",
              "      <td>29</td>\n",
              "      <td>1</td>\n",
              "      <td>&lt; 1 Tahun</td>\n",
              "      <td>Tidak</td>\n",
              "      <td>33101</td>\n",
              "      <td>152</td>\n",
              "      <td>211</td>\n",
              "      <td>0</td>\n",
              "    </tr>\n",
              "    <tr>\n",
              "      <th>47637</th>\n",
              "      <td>Pria</td>\n",
              "      <td>59</td>\n",
              "      <td>1</td>\n",
              "      <td>30</td>\n",
              "      <td>0</td>\n",
              "      <td>1-2 Tahun</td>\n",
              "      <td>Pernah</td>\n",
              "      <td>37788</td>\n",
              "      <td>26</td>\n",
              "      <td>239</td>\n",
              "      <td>1</td>\n",
              "    </tr>\n",
              "    <tr>\n",
              "      <th>47638</th>\n",
              "      <td>Pria</td>\n",
              "      <td>52</td>\n",
              "      <td>1</td>\n",
              "      <td>31</td>\n",
              "      <td>0</td>\n",
              "      <td>1-2 Tahun</td>\n",
              "      <td>Tidak</td>\n",
              "      <td>2630</td>\n",
              "      <td>124</td>\n",
              "      <td>170</td>\n",
              "      <td>0</td>\n",
              "    </tr>\n",
              "  </tbody>\n",
              "</table>\n",
              "<p>47639 rows × 11 columns</p>\n",
              "</div>"
            ],
            "text/plain": [
              "      Jenis_Kelamin  Umur  SIM  ...  Kanal_Penjualan  Lama_Berlangganan Tertarik\n",
              "0            Wanita    49    1  ...               26                145        0\n",
              "1              Pria    22    1  ...              152                241        0\n",
              "2              Pria    24    1  ...              152                 62        0\n",
              "3              Pria    46    1  ...              124                 34        0\n",
              "4              Pria    35    1  ...              152                229        0\n",
              "...             ...   ...  ...  ...              ...                ...      ...\n",
              "47634          Pria    61    1  ...              124                 67        0\n",
              "47635          Pria    41    1  ...              157                232        0\n",
              "47636          Pria    24    1  ...              152                211        0\n",
              "47637          Pria    59    1  ...               26                239        1\n",
              "47638          Pria    52    1  ...              124                170        0\n",
              "\n",
              "[47639 rows x 11 columns]"
            ]
          },
          "metadata": {},
          "execution_count": 20
        }
      ]
    },
    {
      "cell_type": "markdown",
      "source": [
        "## **View The Head Of Data**"
      ],
      "metadata": {
        "id": "JOLl-Ize2AyS"
      }
    },
    {
      "cell_type": "code",
      "metadata": {
        "id": "uDMMeRZi4W2s",
        "colab": {
          "base_uri": "https://localhost:8080/",
          "height": 206
        },
        "outputId": "22252957-c08c-4ee0-bdb0-2931455a26db"
      },
      "source": [
        "# Show the first 5 data\n",
        "data_test.head()"
      ],
      "execution_count": 21,
      "outputs": [
        {
          "output_type": "execute_result",
          "data": {
            "text/html": [
              "<div>\n",
              "<style scoped>\n",
              "    .dataframe tbody tr th:only-of-type {\n",
              "        vertical-align: middle;\n",
              "    }\n",
              "\n",
              "    .dataframe tbody tr th {\n",
              "        vertical-align: top;\n",
              "    }\n",
              "\n",
              "    .dataframe thead th {\n",
              "        text-align: right;\n",
              "    }\n",
              "</style>\n",
              "<table border=\"1\" class=\"dataframe\">\n",
              "  <thead>\n",
              "    <tr style=\"text-align: right;\">\n",
              "      <th></th>\n",
              "      <th>Jenis_Kelamin</th>\n",
              "      <th>Umur</th>\n",
              "      <th>SIM</th>\n",
              "      <th>Kode_Daerah</th>\n",
              "      <th>Sudah_Asuransi</th>\n",
              "      <th>Umur_Kendaraan</th>\n",
              "      <th>Kendaraan_Rusak</th>\n",
              "      <th>Premi</th>\n",
              "      <th>Kanal_Penjualan</th>\n",
              "      <th>Lama_Berlangganan</th>\n",
              "      <th>Tertarik</th>\n",
              "    </tr>\n",
              "  </thead>\n",
              "  <tbody>\n",
              "    <tr>\n",
              "      <th>0</th>\n",
              "      <td>Wanita</td>\n",
              "      <td>49</td>\n",
              "      <td>1</td>\n",
              "      <td>8</td>\n",
              "      <td>0</td>\n",
              "      <td>1-2 Tahun</td>\n",
              "      <td>Pernah</td>\n",
              "      <td>46963</td>\n",
              "      <td>26</td>\n",
              "      <td>145</td>\n",
              "      <td>0</td>\n",
              "    </tr>\n",
              "    <tr>\n",
              "      <th>1</th>\n",
              "      <td>Pria</td>\n",
              "      <td>22</td>\n",
              "      <td>1</td>\n",
              "      <td>47</td>\n",
              "      <td>1</td>\n",
              "      <td>&lt; 1 Tahun</td>\n",
              "      <td>Tidak</td>\n",
              "      <td>39624</td>\n",
              "      <td>152</td>\n",
              "      <td>241</td>\n",
              "      <td>0</td>\n",
              "    </tr>\n",
              "    <tr>\n",
              "      <th>2</th>\n",
              "      <td>Pria</td>\n",
              "      <td>24</td>\n",
              "      <td>1</td>\n",
              "      <td>28</td>\n",
              "      <td>1</td>\n",
              "      <td>&lt; 1 Tahun</td>\n",
              "      <td>Tidak</td>\n",
              "      <td>110479</td>\n",
              "      <td>152</td>\n",
              "      <td>62</td>\n",
              "      <td>0</td>\n",
              "    </tr>\n",
              "    <tr>\n",
              "      <th>3</th>\n",
              "      <td>Pria</td>\n",
              "      <td>46</td>\n",
              "      <td>1</td>\n",
              "      <td>8</td>\n",
              "      <td>1</td>\n",
              "      <td>1-2 Tahun</td>\n",
              "      <td>Tidak</td>\n",
              "      <td>36266</td>\n",
              "      <td>124</td>\n",
              "      <td>34</td>\n",
              "      <td>0</td>\n",
              "    </tr>\n",
              "    <tr>\n",
              "      <th>4</th>\n",
              "      <td>Pria</td>\n",
              "      <td>35</td>\n",
              "      <td>1</td>\n",
              "      <td>23</td>\n",
              "      <td>0</td>\n",
              "      <td>1-2 Tahun</td>\n",
              "      <td>Pernah</td>\n",
              "      <td>26963</td>\n",
              "      <td>152</td>\n",
              "      <td>229</td>\n",
              "      <td>0</td>\n",
              "    </tr>\n",
              "  </tbody>\n",
              "</table>\n",
              "</div>"
            ],
            "text/plain": [
              "  Jenis_Kelamin  Umur  SIM  ...  Kanal_Penjualan  Lama_Berlangganan Tertarik\n",
              "0        Wanita    49    1  ...               26                145        0\n",
              "1          Pria    22    1  ...              152                241        0\n",
              "2          Pria    24    1  ...              152                 62        0\n",
              "3          Pria    46    1  ...              124                 34        0\n",
              "4          Pria    35    1  ...              152                229        0\n",
              "\n",
              "[5 rows x 11 columns]"
            ]
          },
          "metadata": {},
          "execution_count": 21
        }
      ]
    },
    {
      "cell_type": "markdown",
      "source": [
        "## **View The Shape Of Data**"
      ],
      "metadata": {
        "id": "mrVPVY0x2Ash"
      }
    },
    {
      "cell_type": "code",
      "metadata": {
        "colab": {
          "base_uri": "https://localhost:8080/"
        },
        "id": "D31HJiUkguEW",
        "outputId": "767aca18-bd83-42c0-e7dc-a4f046755b13"
      },
      "source": [
        "# show the shape of data (rows,columns)\n",
        "data_test.shape"
      ],
      "execution_count": 22,
      "outputs": [
        {
          "output_type": "execute_result",
          "data": {
            "text/plain": [
              "(47639, 11)"
            ]
          },
          "metadata": {},
          "execution_count": 22
        }
      ]
    },
    {
      "cell_type": "markdown",
      "source": [
        "## **View The Type Of Data**"
      ],
      "metadata": {
        "id": "HavJwZHH21GB"
      }
    },
    {
      "cell_type": "code",
      "metadata": {
        "colab": {
          "base_uri": "https://localhost:8080/"
        },
        "id": "Psj-Zs4DhI2F",
        "outputId": "43fee60b-197b-4acd-8ada-a62cabaa83d6"
      },
      "source": [
        "# Check the data type for each column\n",
        "data_test.dtypes"
      ],
      "execution_count": 23,
      "outputs": [
        {
          "output_type": "execute_result",
          "data": {
            "text/plain": [
              "Jenis_Kelamin        object\n",
              "Umur                  int64\n",
              "SIM                   int64\n",
              "Kode_Daerah           int64\n",
              "Sudah_Asuransi        int64\n",
              "Umur_Kendaraan       object\n",
              "Kendaraan_Rusak      object\n",
              "Premi                 int64\n",
              "Kanal_Penjualan       int64\n",
              "Lama_Berlangganan     int64\n",
              "Tertarik              int64\n",
              "dtype: object"
            ]
          },
          "metadata": {},
          "execution_count": 23
        }
      ]
    },
    {
      "cell_type": "markdown",
      "source": [
        "## **Check Missing Value**"
      ],
      "metadata": {
        "id": "6F3rRra628hx"
      }
    },
    {
      "cell_type": "code",
      "metadata": {
        "colab": {
          "base_uri": "https://localhost:8080/"
        },
        "id": "yUyGCpqMhVXE",
        "outputId": "4a493766-6477-4a62-b2ad-9f47cde0803f"
      },
      "source": [
        "# Check missing value for each columns\n",
        "data_test.isnull().sum()"
      ],
      "execution_count": 24,
      "outputs": [
        {
          "output_type": "execute_result",
          "data": {
            "text/plain": [
              "Jenis_Kelamin        0\n",
              "Umur                 0\n",
              "SIM                  0\n",
              "Kode_Daerah          0\n",
              "Sudah_Asuransi       0\n",
              "Umur_Kendaraan       0\n",
              "Kendaraan_Rusak      0\n",
              "Premi                0\n",
              "Kanal_Penjualan      0\n",
              "Lama_Berlangganan    0\n",
              "Tertarik             0\n",
              "dtype: int64"
            ]
          },
          "metadata": {},
          "execution_count": 24
        }
      ]
    },
    {
      "cell_type": "markdown",
      "source": [
        "## **Check Duplicated Data**"
      ],
      "metadata": {
        "id": "E54QMaDT3CXY"
      }
    },
    {
      "cell_type": "code",
      "metadata": {
        "colab": {
          "base_uri": "https://localhost:8080/",
          "height": 161
        },
        "id": "zqDwHUDchgdl",
        "outputId": "dac0ddba-2ff4-4d4c-d47e-24bd54a6b051"
      },
      "source": [
        "# Check duplicate data on data test\n",
        "print(data_test.duplicated().sum())\n",
        "duplicated_data = data_test[data_test.duplicated()]\n",
        "duplicated_data"
      ],
      "execution_count": 25,
      "outputs": [
        {
          "output_type": "stream",
          "name": "stdout",
          "text": [
            "3\n"
          ]
        },
        {
          "output_type": "execute_result",
          "data": {
            "text/html": [
              "<div>\n",
              "<style scoped>\n",
              "    .dataframe tbody tr th:only-of-type {\n",
              "        vertical-align: middle;\n",
              "    }\n",
              "\n",
              "    .dataframe tbody tr th {\n",
              "        vertical-align: top;\n",
              "    }\n",
              "\n",
              "    .dataframe thead th {\n",
              "        text-align: right;\n",
              "    }\n",
              "</style>\n",
              "<table border=\"1\" class=\"dataframe\">\n",
              "  <thead>\n",
              "    <tr style=\"text-align: right;\">\n",
              "      <th></th>\n",
              "      <th>Jenis_Kelamin</th>\n",
              "      <th>Umur</th>\n",
              "      <th>SIM</th>\n",
              "      <th>Kode_Daerah</th>\n",
              "      <th>Sudah_Asuransi</th>\n",
              "      <th>Umur_Kendaraan</th>\n",
              "      <th>Kendaraan_Rusak</th>\n",
              "      <th>Premi</th>\n",
              "      <th>Kanal_Penjualan</th>\n",
              "      <th>Lama_Berlangganan</th>\n",
              "      <th>Tertarik</th>\n",
              "    </tr>\n",
              "  </thead>\n",
              "  <tbody>\n",
              "    <tr>\n",
              "      <th>7859</th>\n",
              "      <td>Wanita</td>\n",
              "      <td>41</td>\n",
              "      <td>1</td>\n",
              "      <td>28</td>\n",
              "      <td>0</td>\n",
              "      <td>1-2 Tahun</td>\n",
              "      <td>Pernah</td>\n",
              "      <td>2630</td>\n",
              "      <td>124</td>\n",
              "      <td>257</td>\n",
              "      <td>0</td>\n",
              "    </tr>\n",
              "    <tr>\n",
              "      <th>11717</th>\n",
              "      <td>Wanita</td>\n",
              "      <td>35</td>\n",
              "      <td>1</td>\n",
              "      <td>30</td>\n",
              "      <td>1</td>\n",
              "      <td>1-2 Tahun</td>\n",
              "      <td>Tidak</td>\n",
              "      <td>2630</td>\n",
              "      <td>124</td>\n",
              "      <td>187</td>\n",
              "      <td>0</td>\n",
              "    </tr>\n",
              "    <tr>\n",
              "      <th>31113</th>\n",
              "      <td>Wanita</td>\n",
              "      <td>47</td>\n",
              "      <td>1</td>\n",
              "      <td>28</td>\n",
              "      <td>0</td>\n",
              "      <td>1-2 Tahun</td>\n",
              "      <td>Pernah</td>\n",
              "      <td>2630</td>\n",
              "      <td>26</td>\n",
              "      <td>276</td>\n",
              "      <td>1</td>\n",
              "    </tr>\n",
              "  </tbody>\n",
              "</table>\n",
              "</div>"
            ],
            "text/plain": [
              "      Jenis_Kelamin  Umur  SIM  ...  Kanal_Penjualan  Lama_Berlangganan Tertarik\n",
              "7859         Wanita    41    1  ...              124                257        0\n",
              "11717        Wanita    35    1  ...              124                187        0\n",
              "31113        Wanita    47    1  ...               26                276        1\n",
              "\n",
              "[3 rows x 11 columns]"
            ]
          },
          "metadata": {},
          "execution_count": 25
        }
      ]
    },
    {
      "cell_type": "markdown",
      "source": [
        "## **Check Outlier**"
      ],
      "metadata": {
        "id": "NEd5X0i93LEo"
      }
    },
    {
      "cell_type": "code",
      "metadata": {
        "colab": {
          "base_uri": "https://localhost:8080/",
          "height": 429
        },
        "id": "DvJ8PxRphsxN",
        "outputId": "037c6b22-cbd7-482a-cfc5-68da2dbedbc6"
      },
      "source": [
        "# Check outlier for columns \"Umur\", \"Premi\", \"Kanal_Penjualan\", \"Lama_Berlangganan\"\n",
        "plt.figure(figsize=(9,7))\n",
        "boxplot = data_test.boxplot(column=['Umur', 'Premi', 'Kanal_Penjualan', 'Lama_Berlangganan'])"
      ],
      "execution_count": 26,
      "outputs": [
        {
          "output_type": "display_data",
          "data": {
            "image/png": "[encoded data removed]",
            "text/plain": [
              "<Figure size 648x504 with 1 Axes>"
            ]
          },
          "metadata": {
            "needs_background": "light"
          }
        }
      ]
    },
    {
      "cell_type": "code",
      "metadata": {
        "id": "eHQyKLY4R03-"
      },
      "source": [
        ""
      ],
      "execution_count": 26,
      "outputs": []
    }
  ]
}